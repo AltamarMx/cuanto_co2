{
 "cells": [
  {
   "cell_type": "raw",
   "id": "847ac497-e52e-44ea-a497-b6909487978e",
   "metadata": {},
   "source": [
    "---\n",
    "project:\n",
    "  type: website\n",
    "  output-dir: docs  \n",
    "title: Cuando nací habia ...\n",
    "author: G. Barrios\n",
    "format: dashboard\n",
    "\n",
    "---"
   ]
  },
  {
   "cell_type": "code",
   "execution_count": 1,
   "id": "b2fdf6f4-3628-4971-ade4-44316c9b4fc0",
   "metadata": {},
   "outputs": [],
   "source": [
    "import pandas as pd\n",
    "import plotly.express as px\n",
    "import plotly.graph_objects as go\n",
    "from dash import Dash, dcc, html, Input, Output\n",
    "import datetime\n",
    "from IPython.display import display\n",
    "\n"
   ]
  },
  {
   "cell_type": "code",
   "execution_count": 2,
   "id": "479d6be4-c469-4bda-a3e9-fa92a1c9c941",
   "metadata": {},
   "outputs": [],
   "source": [
    "f = '../data/co2_daily_mlo.txt'\n",
    "df = pd.read_csv(f,usecols=[3,4],sep=r'\\s+',\n",
    "            comment='#',\n",
    "            names=['year','co2'])"
   ]
  },
  {
   "cell_type": "code",
   "execution_count": 3,
   "id": "1d2d7379-1254-44f8-bfe1-e4175d594a12",
   "metadata": {},
   "outputs": [
    {
     "data": {
      "text/html": [
       "\n",
       "        <iframe\n",
       "            width=\"100%\"\n",
       "            height=\"650\"\n",
       "            src=\"http://127.0.0.1:8050/\"\n",
       "            frameborder=\"0\"\n",
       "            allowfullscreen\n",
       "            \n",
       "        ></iframe>\n",
       "        "
      ],
      "text/plain": [
       "<IPython.lib.display.IFrame at 0x114eb28d0>"
      ]
     },
     "metadata": {},
     "output_type": "display_data"
    },
    {
     "data": {
      "text/plain": [
       "None"
      ]
     },
     "metadata": {},
     "output_type": "display_data"
    }
   ],
   "source": [
    "\n",
    "# Crear la aplicación Dash\n",
    "app = Dash(__name__)\n",
    "\n",
    "app.layout = html.Div([\n",
    "    dcc.Graph(id='co2-graph'),\n",
    "    dcc.DatePickerSingle(\n",
    "        id='date-picker',\n",
    "        date=datetime.date(1974, 1, 1),\n",
    "        display_format='YYYY-MM-DD'\n",
    "    ),\n",
    "])\n",
    "\n",
    "@app.callback(\n",
    "    Output('co2-graph', 'figure'),\n",
    "    Input('date-picker', 'date')\n",
    ")\n",
    "def update_graph(selected_date):\n",
    "    selected_date = datetime.datetime.strptime(selected_date, '%Y-%m-%d').date()\n",
    "    year_decimal = selected_date.year + (selected_date.timetuple().tm_yday - 1) / 365.25\n",
    "\n",
    "    fig = px.line(df, x='year', y='co2', title='Valores de CO2 con Línea Vertical en Fecha Seleccionada',\n",
    "                  labels={'year': 'Año', 'co2': 'Concentración de CO2 (ppm)'})\n",
    "\n",
    "    if year_decimal:\n",
    "        fig.add_shape(\n",
    "            type=\"line\",\n",
    "            x0=year_decimal,\n",
    "            y0=df['co2'].min(),\n",
    "            x1=year_decimal,\n",
    "            y1=df['co2'].max(),\n",
    "            line=dict(color=\"Red\", width=2)\n",
    "        )\n",
    "\n",
    "        fig.add_annotation(\n",
    "            x=year_decimal,\n",
    "            y=df.iloc[(df['year'] - year_decimal).abs().argsort()[:1]]['co2'].values[0],\n",
    "            text=f\"Fecha Seleccionada: {year_decimal:.4f}<br>CO2: {df.iloc[(df['year'] - year_decimal).abs().argsort()[:1]]['co2'].values[0]} ppm\",\n",
    "            showarrow=True,\n",
    "            arrowhead=1\n",
    "        )\n",
    "\n",
    "    return fig\n",
    "\n",
    "# Mostrar la aplicación en Jupyter Notebook\n",
    "if __name__ == '__main__':\n",
    "    display(app.run_server(mode='inline', debug=True))"
   ]
  }
 ],
 "metadata": {
  "kernelspec": {
   "display_name": "Python 3 (ipykernel)",
   "language": "python",
   "name": "python3"
  },
  "language_info": {
   "codemirror_mode": {
    "name": "ipython",
    "version": 3
   },
   "file_extension": ".py",
   "mimetype": "text/x-python",
   "name": "python",
   "nbconvert_exporter": "python",
   "pygments_lexer": "ipython3",
   "version": "3.12.3"
  }
 },
 "nbformat": 4,
 "nbformat_minor": 5
}
